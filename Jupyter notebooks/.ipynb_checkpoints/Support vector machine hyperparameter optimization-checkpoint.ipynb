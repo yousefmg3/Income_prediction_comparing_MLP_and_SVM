{
 "cells": [
  {
   "cell_type": "markdown",
   "metadata": {},
   "source": [
    "## Support Vector Machines"
   ]
  },
  {
   "cell_type": "code",
   "execution_count": 1,
   "metadata": {},
   "outputs": [],
   "source": [
    "# importing libraries\n",
    "\n",
    "import pandas as pd\n",
    "import matplotlib.pyplot as plt\n",
    "import numpy as np\n",
    "\n",
    "from sklearn.svm import SVC\n",
    "from sklearn.model_selection import GridSearchCV\n",
    "from scipy import stats\n",
    "\n",
    "plt.style.use(\"seaborn\")"
   ]
  },
  {
   "cell_type": "code",
   "execution_count": 2,
   "metadata": {},
   "outputs": [],
   "source": [
    "# importing datasets \n",
    "\n",
    "X_enc = pd.read_csv(\"X_enc.csv\").drop(\"Unnamed: 0\", axis = 1)\n",
    "y = pd.read_csv(\"y.csv\").drop(\"Unnamed: 0\", axis = 1)"
   ]
  },
  {
   "cell_type": "code",
   "execution_count": 3,
   "metadata": {},
   "outputs": [],
   "source": [
    "# Splitting datasets into train/test\n",
    "\n",
    "# using smaller split for grid search to reduce time taken\n",
    "\n",
    "from sklearn.model_selection import train_test_split\n",
    "\n",
    "X_train, X_test, y_train, y_test = train_test_split(X_df, y, test_size=0.4, random_state = 1)"
   ]
  },
  {
   "cell_type": "code",
   "execution_count": 28,
   "metadata": {},
   "outputs": [],
   "source": [
    "#Smote and random undersampling implementation\n",
    "\n",
    "from imblearn.over_sampling import BorderlineSMOTE\n",
    "from imblearn.under_sampling import RandomUnderSampler \n",
    "undersample = RandomUnderSampler(sampling_strategy=0.5)\n",
    "oversample = BorderlineSMOTE()\n",
    "\n",
    "X_train, y_train = undersample.fit_resample(X_train, y_train)\n",
    "X_trainres, y_trainres = oversample.fit_resample(X_train, y_train)"
   ]
  },
  {
   "cell_type": "code",
   "execution_count": 6,
   "metadata": {},
   "outputs": [],
   "source": [
    "# creating dictionary with hyperparameters and hyper parameter results\n",
    "\n",
    "param_grid = {'C': [0.1,1, 10, 100], 'gamma': [1,0.1,0.01,0.001], 'kernel': ['linear','rbf', 'poly', 'sigmoid']}\n",
    "\n",
    "# creating grid search framework\n",
    "\n",
    "gridSVM = GridSearchCV(SVC(), param_grid, refit=True, n_jobs = -1)"
   ]
  },
  {
   "cell_type": "code",
   "execution_count": 7,
   "metadata": {},
   "outputs": [
    {
     "data": {
      "text/plain": [
       "GridSearchCV(estimator=SVC(), n_jobs=-1,\n",
       "             param_grid={'C': [0.1, 1, 10, 100], 'gamma': [1, 0.1, 0.01, 0.001],\n",
       "                         'kernel': ['linear', 'rbf', 'poly', 'sigmoid']})"
      ]
     },
     "execution_count": 7,
     "metadata": {},
     "output_type": "execute_result"
    }
   ],
   "source": [
    "# running grid search\n",
    "gridSVM.fit(X_trainres, y_trainres.values.ravel())"
   ]
  },
  {
   "cell_type": "code",
   "execution_count": 10,
   "metadata": {},
   "outputs": [
    {
     "data": {
      "text/plain": [
       "{'C': 100, 'gamma': 1, 'kernel': 'rbf'}"
      ]
     },
     "execution_count": 10,
     "metadata": {},
     "output_type": "execute_result"
    }
   ],
   "source": [
    "# best parameters from grid search\n",
    "gridSVM.best_params_"
   ]
  },
  {
   "cell_type": "code",
   "execution_count": 26,
   "metadata": {},
   "outputs": [
    {
     "data": {
      "text/plain": [
       "3.1494937581883535"
      ]
     },
     "execution_count": 26,
     "metadata": {},
     "output_type": "execute_result"
    }
   ],
   "source": [
    "gridSVM.cv_results_[\"mean_fit_time\"].sum()/3600 # Grid search time taken"
   ]
  },
  {
   "cell_type": "code",
   "execution_count": 13,
   "metadata": {},
   "outputs": [
    {
     "data": {
      "text/plain": [
       "{'mean_fit_time': array([  69.58493595,   93.61706157,   66.97916203,   96.51149993,\n",
       "          62.60705905,   76.04504056,   68.19796653,   87.69671459,\n",
       "          65.77166476,   79.6172802 ,  103.30569906,   84.38801098,\n",
       "          66.15361533,  103.34829373,  103.27434945,  113.10872431,\n",
       "          66.44577923,  147.57649484,  124.76355891,   81.79101877,\n",
       "          59.77062693,   63.08740368,   61.5386374 ,   64.18428555,\n",
       "          66.82927785,   72.63796887,  107.05067258,   74.04862189,\n",
       "          66.99484439,   80.9092977 ,  104.31923828,   85.18040376,\n",
       "          92.84258413,  202.54234056,  594.22651215,   56.35633721,\n",
       "          57.25245113,   34.23164296,   38.84437723,   39.896033  ,\n",
       "          74.61988773,   50.77712293,   66.50083418,   63.03967037,\n",
       "          84.96794825,   69.22018185,  105.62729735,   74.48442502,\n",
       "         323.90055285,  197.03548517, 5214.21686115,   56.95780845,\n",
       "         277.20900683,   34.94854803,   40.1252099 ,   31.35572171,\n",
       "         275.92375646,   32.92733831,   33.31078968,   46.06107178,\n",
       "         276.26901402,   32.09183865,   55.54662447,   37.53304729]),\n",
       " 'std_fit_time': array([  2.3210451 ,   7.15996824,   1.67070673,   0.99171663,\n",
       "          0.63757764,   1.76622058,   0.56757026,   4.54686298,\n",
       "          3.40170448,   5.37608383,   2.1643034 ,   2.87630953,\n",
       "          3.10224687,   3.9044349 ,   2.6858575 ,   1.20737166,\n",
       "          1.60373496,  11.8792015 ,   6.66114717,   0.90983644,\n",
       "          1.61516137,   2.5621109 ,   1.93522965,   2.1063652 ,\n",
       "          1.93012076,   4.27699979,   2.26310992,   2.32978439,\n",
       "          2.39133417,   5.56825601,   1.60073126,   3.28724292,\n",
       "          2.73505891,   3.26933043,  85.62088962,   3.09184731,\n",
       "          1.31428186,   0.94948087,   2.30446937,   5.50308186,\n",
       "          1.0275091 ,   1.53741416,   2.05966505,   1.67316962,\n",
       "          2.11547332,   2.17408696,   0.78261174,   2.48484453,\n",
       "         86.09018248,  29.22320695, 420.93129024,   1.1699448 ,\n",
       "         88.70241202,   1.03363926,   2.75770953,   6.59397943,\n",
       "         91.58511633,   0.70395168,   0.96379513,   1.5607419 ,\n",
       "         92.12828532,   1.78458715,   4.24724388,   3.9118088 ]),\n",
       " 'mean_score_time': array([ 9.53761601, 22.0361011 ,  7.26881428, 15.21256261,  9.54080553,\n",
       "        16.11492867, 10.98187881, 11.68245535,  9.71588922, 18.84057784,\n",
       "        19.72359228, 13.97205524,  9.7654006 , 28.3164607 , 19.31238112,\n",
       "        21.57377815,  9.08951402, 17.98434992,  6.36492686, 11.37516141,\n",
       "         9.14643936, 16.20891914,  9.48409276,  8.16497955,  9.39516306,\n",
       "        16.75670595, 20.04701829, 11.73818908,  9.62412243, 18.74897423,\n",
       "        19.94912829, 13.69212666,  8.62199812, 15.24497886,  5.12759943,\n",
       "         7.60717077,  4.55073171, 10.59458876,  5.13821015,  5.48599381,\n",
       "         6.33077083, 13.71641417, 11.87214179,  9.43120575,  8.71480389,\n",
       "        17.74048252, 20.14748607, 11.69249263,  5.92401719, 12.58659658,\n",
       "         1.80522828,  7.76821313,  4.08502827,  9.46621127,  3.34018321,\n",
       "         3.99401665,  4.14442372, 10.82648692,  4.80803351,  4.73016815,\n",
       "         4.09472928, 12.23101187,  9.46687384,  5.09075394]),\n",
       " 'std_score_time': array([0.34251881, 0.74208603, 0.11685388, 0.39076849, 0.24035359,\n",
       "        0.21959158, 0.46290708, 0.46149199, 0.46641848, 0.69485136,\n",
       "        0.39403915, 0.40810102, 0.30332996, 1.01382661, 0.55664144,\n",
       "        0.33882342, 0.40362566, 0.81572514, 0.87104371, 0.5215852 ,\n",
       "        0.43544701, 0.38314492, 0.39539342, 0.37583873, 0.33406817,\n",
       "        0.83633032, 0.70688984, 0.31655057, 0.2928006 , 1.25099838,\n",
       "        0.63652319, 0.36258789, 0.43617071, 0.35803382, 0.89068943,\n",
       "        0.58793532, 0.37219571, 0.37864891, 0.16664632, 0.29908725,\n",
       "        0.29319028, 0.51693002, 0.44530505, 0.22060896, 0.21100478,\n",
       "        1.3271623 , 0.55107577, 0.49011961, 0.33330022, 1.34086774,\n",
       "        0.37805269, 0.20769636, 0.20822353, 0.14294597, 0.30481599,\n",
       "        0.2628471 , 0.30950115, 0.13879936, 0.32042715, 0.17268237,\n",
       "        0.34431144, 0.45468831, 1.07726802, 0.63846195]),\n",
       " 'param_C': masked_array(data=[0.1, 0.1, 0.1, 0.1, 0.1, 0.1, 0.1, 0.1, 0.1, 0.1, 0.1,\n",
       "                    0.1, 0.1, 0.1, 0.1, 0.1, 1, 1, 1, 1, 1, 1, 1, 1, 1, 1,\n",
       "                    1, 1, 1, 1, 1, 1, 10, 10, 10, 10, 10, 10, 10, 10, 10,\n",
       "                    10, 10, 10, 10, 10, 10, 10, 100, 100, 100, 100, 100,\n",
       "                    100, 100, 100, 100, 100, 100, 100, 100, 100, 100, 100],\n",
       "              mask=[False, False, False, False, False, False, False, False,\n",
       "                    False, False, False, False, False, False, False, False,\n",
       "                    False, False, False, False, False, False, False, False,\n",
       "                    False, False, False, False, False, False, False, False,\n",
       "                    False, False, False, False, False, False, False, False,\n",
       "                    False, False, False, False, False, False, False, False,\n",
       "                    False, False, False, False, False, False, False, False,\n",
       "                    False, False, False, False, False, False, False, False],\n",
       "        fill_value='?',\n",
       "             dtype=object),\n",
       " 'param_gamma': masked_array(data=[1, 1, 1, 1, 0.1, 0.1, 0.1, 0.1, 0.01, 0.01, 0.01, 0.01,\n",
       "                    0.001, 0.001, 0.001, 0.001, 1, 1, 1, 1, 0.1, 0.1, 0.1,\n",
       "                    0.1, 0.01, 0.01, 0.01, 0.01, 0.001, 0.001, 0.001,\n",
       "                    0.001, 1, 1, 1, 1, 0.1, 0.1, 0.1, 0.1, 0.01, 0.01,\n",
       "                    0.01, 0.01, 0.001, 0.001, 0.001, 0.001, 1, 1, 1, 1,\n",
       "                    0.1, 0.1, 0.1, 0.1, 0.01, 0.01, 0.01, 0.01, 0.001,\n",
       "                    0.001, 0.001, 0.001],\n",
       "              mask=[False, False, False, False, False, False, False, False,\n",
       "                    False, False, False, False, False, False, False, False,\n",
       "                    False, False, False, False, False, False, False, False,\n",
       "                    False, False, False, False, False, False, False, False,\n",
       "                    False, False, False, False, False, False, False, False,\n",
       "                    False, False, False, False, False, False, False, False,\n",
       "                    False, False, False, False, False, False, False, False,\n",
       "                    False, False, False, False, False, False, False, False],\n",
       "        fill_value='?',\n",
       "             dtype=object),\n",
       " 'param_kernel': masked_array(data=['linear', 'rbf', 'poly', 'sigmoid', 'linear', 'rbf',\n",
       "                    'poly', 'sigmoid', 'linear', 'rbf', 'poly', 'sigmoid',\n",
       "                    'linear', 'rbf', 'poly', 'sigmoid', 'linear', 'rbf',\n",
       "                    'poly', 'sigmoid', 'linear', 'rbf', 'poly', 'sigmoid',\n",
       "                    'linear', 'rbf', 'poly', 'sigmoid', 'linear', 'rbf',\n",
       "                    'poly', 'sigmoid', 'linear', 'rbf', 'poly', 'sigmoid',\n",
       "                    'linear', 'rbf', 'poly', 'sigmoid', 'linear', 'rbf',\n",
       "                    'poly', 'sigmoid', 'linear', 'rbf', 'poly', 'sigmoid',\n",
       "                    'linear', 'rbf', 'poly', 'sigmoid', 'linear', 'rbf',\n",
       "                    'poly', 'sigmoid', 'linear', 'rbf', 'poly', 'sigmoid',\n",
       "                    'linear', 'rbf', 'poly', 'sigmoid'],\n",
       "              mask=[False, False, False, False, False, False, False, False,\n",
       "                    False, False, False, False, False, False, False, False,\n",
       "                    False, False, False, False, False, False, False, False,\n",
       "                    False, False, False, False, False, False, False, False,\n",
       "                    False, False, False, False, False, False, False, False,\n",
       "                    False, False, False, False, False, False, False, False,\n",
       "                    False, False, False, False, False, False, False, False,\n",
       "                    False, False, False, False, False, False, False, False],\n",
       "        fill_value='?',\n",
       "             dtype=object),\n",
       " 'params': [{'C': 0.1, 'gamma': 1, 'kernel': 'linear'},\n",
       "  {'C': 0.1, 'gamma': 1, 'kernel': 'rbf'},\n",
       "  {'C': 0.1, 'gamma': 1, 'kernel': 'poly'},\n",
       "  {'C': 0.1, 'gamma': 1, 'kernel': 'sigmoid'},\n",
       "  {'C': 0.1, 'gamma': 0.1, 'kernel': 'linear'},\n",
       "  {'C': 0.1, 'gamma': 0.1, 'kernel': 'rbf'},\n",
       "  {'C': 0.1, 'gamma': 0.1, 'kernel': 'poly'},\n",
       "  {'C': 0.1, 'gamma': 0.1, 'kernel': 'sigmoid'},\n",
       "  {'C': 0.1, 'gamma': 0.01, 'kernel': 'linear'},\n",
       "  {'C': 0.1, 'gamma': 0.01, 'kernel': 'rbf'},\n",
       "  {'C': 0.1, 'gamma': 0.01, 'kernel': 'poly'},\n",
       "  {'C': 0.1, 'gamma': 0.01, 'kernel': 'sigmoid'},\n",
       "  {'C': 0.1, 'gamma': 0.001, 'kernel': 'linear'},\n",
       "  {'C': 0.1, 'gamma': 0.001, 'kernel': 'rbf'},\n",
       "  {'C': 0.1, 'gamma': 0.001, 'kernel': 'poly'},\n",
       "  {'C': 0.1, 'gamma': 0.001, 'kernel': 'sigmoid'},\n",
       "  {'C': 1, 'gamma': 1, 'kernel': 'linear'},\n",
       "  {'C': 1, 'gamma': 1, 'kernel': 'rbf'},\n",
       "  {'C': 1, 'gamma': 1, 'kernel': 'poly'},\n",
       "  {'C': 1, 'gamma': 1, 'kernel': 'sigmoid'},\n",
       "  {'C': 1, 'gamma': 0.1, 'kernel': 'linear'},\n",
       "  {'C': 1, 'gamma': 0.1, 'kernel': 'rbf'},\n",
       "  {'C': 1, 'gamma': 0.1, 'kernel': 'poly'},\n",
       "  {'C': 1, 'gamma': 0.1, 'kernel': 'sigmoid'},\n",
       "  {'C': 1, 'gamma': 0.01, 'kernel': 'linear'},\n",
       "  {'C': 1, 'gamma': 0.01, 'kernel': 'rbf'},\n",
       "  {'C': 1, 'gamma': 0.01, 'kernel': 'poly'},\n",
       "  {'C': 1, 'gamma': 0.01, 'kernel': 'sigmoid'},\n",
       "  {'C': 1, 'gamma': 0.001, 'kernel': 'linear'},\n",
       "  {'C': 1, 'gamma': 0.001, 'kernel': 'rbf'},\n",
       "  {'C': 1, 'gamma': 0.001, 'kernel': 'poly'},\n",
       "  {'C': 1, 'gamma': 0.001, 'kernel': 'sigmoid'},\n",
       "  {'C': 10, 'gamma': 1, 'kernel': 'linear'},\n",
       "  {'C': 10, 'gamma': 1, 'kernel': 'rbf'},\n",
       "  {'C': 10, 'gamma': 1, 'kernel': 'poly'},\n",
       "  {'C': 10, 'gamma': 1, 'kernel': 'sigmoid'},\n",
       "  {'C': 10, 'gamma': 0.1, 'kernel': 'linear'},\n",
       "  {'C': 10, 'gamma': 0.1, 'kernel': 'rbf'},\n",
       "  {'C': 10, 'gamma': 0.1, 'kernel': 'poly'},\n",
       "  {'C': 10, 'gamma': 0.1, 'kernel': 'sigmoid'},\n",
       "  {'C': 10, 'gamma': 0.01, 'kernel': 'linear'},\n",
       "  {'C': 10, 'gamma': 0.01, 'kernel': 'rbf'},\n",
       "  {'C': 10, 'gamma': 0.01, 'kernel': 'poly'},\n",
       "  {'C': 10, 'gamma': 0.01, 'kernel': 'sigmoid'},\n",
       "  {'C': 10, 'gamma': 0.001, 'kernel': 'linear'},\n",
       "  {'C': 10, 'gamma': 0.001, 'kernel': 'rbf'},\n",
       "  {'C': 10, 'gamma': 0.001, 'kernel': 'poly'},\n",
       "  {'C': 10, 'gamma': 0.001, 'kernel': 'sigmoid'},\n",
       "  {'C': 100, 'gamma': 1, 'kernel': 'linear'},\n",
       "  {'C': 100, 'gamma': 1, 'kernel': 'rbf'},\n",
       "  {'C': 100, 'gamma': 1, 'kernel': 'poly'},\n",
       "  {'C': 100, 'gamma': 1, 'kernel': 'sigmoid'},\n",
       "  {'C': 100, 'gamma': 0.1, 'kernel': 'linear'},\n",
       "  {'C': 100, 'gamma': 0.1, 'kernel': 'rbf'},\n",
       "  {'C': 100, 'gamma': 0.1, 'kernel': 'poly'},\n",
       "  {'C': 100, 'gamma': 0.1, 'kernel': 'sigmoid'},\n",
       "  {'C': 100, 'gamma': 0.01, 'kernel': 'linear'},\n",
       "  {'C': 100, 'gamma': 0.01, 'kernel': 'rbf'},\n",
       "  {'C': 100, 'gamma': 0.01, 'kernel': 'poly'},\n",
       "  {'C': 100, 'gamma': 0.01, 'kernel': 'sigmoid'},\n",
       "  {'C': 100, 'gamma': 0.001, 'kernel': 'linear'},\n",
       "  {'C': 100, 'gamma': 0.001, 'kernel': 'rbf'},\n",
       "  {'C': 100, 'gamma': 0.001, 'kernel': 'poly'},\n",
       "  {'C': 100, 'gamma': 0.001, 'kernel': 'sigmoid'}],\n",
       " 'split0_test_score': array([0.80096618, 0.74927536, 0.81642512, 0.48961353, 0.80096618,\n",
       "        0.78671498, 0.78574879, 0.74879227, 0.80096618, 0.76425121,\n",
       "        0.74130435, 0.76352657, 0.80096618, 0.76594203, 0.74130435,\n",
       "        0.76932367, 0.80289855, 0.8031401 , 0.80845411, 0.45096618,\n",
       "        0.80289855, 0.80531401, 0.80096618, 0.7       , 0.80289855,\n",
       "        0.79637681, 0.74130435, 0.78768116, 0.80289855, 0.76425121,\n",
       "        0.74130435, 0.76352657, 0.80193237, 0.81497585, 0.79444444,\n",
       "        0.44927536, 0.80193237, 0.81207729, 0.8147343 , 0.71111111,\n",
       "        0.80193237, 0.80217391, 0.76763285, 0.80120773, 0.80193237,\n",
       "        0.79492754, 0.74130435, 0.78768116, 0.80193237, 0.81328502,\n",
       "        0.78405797, 0.44927536, 0.80193237, 0.8115942 , 0.81642512,\n",
       "        0.69444444, 0.80193237, 0.80845411, 0.78574879, 0.78961353,\n",
       "        0.80193237, 0.802657  , 0.74130435, 0.80096618]),\n",
       " 'split1_test_score': array([0.81686398, 0.75742933, 0.8125151 , 0.48900701, 0.81686398,\n",
       "        0.80478376, 0.80454216, 0.77023436, 0.81686398, 0.77989853,\n",
       "        0.4998792 , 0.77941532, 0.81686398, 0.77965692, 0.4998792 ,\n",
       "        0.78376419, 0.818072  , 0.81082387, 0.79898526, 0.45614883,\n",
       "        0.818072  , 0.82242087, 0.82072964, 0.71224934, 0.818072  ,\n",
       "        0.81058227, 0.7668519 , 0.80019328, 0.818072  , 0.77989853,\n",
       "        0.4998792 , 0.77941532, 0.81758879, 0.8125151 , 0.78787147,\n",
       "        0.45324958, 0.81758879, 0.82000483, 0.81976323, 0.70620923,\n",
       "        0.81758879, 0.81952162, 0.78062334, 0.81686398, 0.81758879,\n",
       "        0.81106547, 0.4998792 , 0.8009181 , 0.81734719, 0.80454216,\n",
       "        0.78231457, 0.45324958, 0.81734719, 0.80816622, 0.8125151 ,\n",
       "        0.70572602, 0.81734719, 0.82556173, 0.80430056, 0.80188451,\n",
       "        0.81734719, 0.81855521, 0.4998792 , 0.81710558]),\n",
       " 'split2_test_score': array([0.77385842, 0.75694612, 0.83087702, 0.46170573, 0.77385842,\n",
       "        0.77144238, 0.76999275, 0.70330998, 0.77385842, 0.7327857 ,\n",
       "        0.4998792 , 0.7327857 , 0.77385842, 0.73640976, 0.4998792 ,\n",
       "        0.73109447, 0.77385842, 0.82097125, 0.82725296, 0.42884755,\n",
       "        0.77385842, 0.81323991, 0.79971007, 0.65064025, 0.77385842,\n",
       "        0.76757671, 0.71539019, 0.7499396 , 0.77385842, 0.7327857 ,\n",
       "        0.4998792 , 0.7327857 , 0.77458323, 0.84319884, 0.81976323,\n",
       "        0.42812273, 0.77458323, 0.83087702, 0.82097125, 0.64460014,\n",
       "        0.77458323, 0.7953612 , 0.7388258 , 0.77385842, 0.77458323,\n",
       "        0.76443585, 0.4998792 , 0.75042281, 0.77458323, 0.8468229 ,\n",
       "        0.81903842, 0.42836434, 0.77458323, 0.83353467, 0.83087702,\n",
       "        0.64339212, 0.77458323, 0.82338729, 0.76999275, 0.75984537,\n",
       "        0.77458323, 0.77579125, 0.4998792 , 0.77385842]),\n",
       " 'split3_test_score': array([0.74631554, 0.75767094, 0.84609809, 0.44793428, 0.74631554,\n",
       "        0.76419425, 0.76201981, 0.65136506, 0.74631554, 0.7042764 ,\n",
       "        0.4998792 , 0.70403479, 0.74631554, 0.70234356, 0.4998792 ,\n",
       "        0.69074656, 0.74824837, 0.84803093, 0.85093018, 0.41700894,\n",
       "        0.74824837, 0.81686398, 0.79922687, 0.59507127, 0.74824837,\n",
       "        0.75066441, 0.68881372, 0.72481276, 0.74824837, 0.70403479,\n",
       "        0.4998792 , 0.70403479, 0.74752356, 0.86856729, 0.8523798 ,\n",
       "        0.41942498, 0.74752356, 0.84319884, 0.83015221, 0.58589031,\n",
       "        0.74752356, 0.7842474 , 0.7100749 , 0.74824837, 0.74752356,\n",
       "        0.74607393, 0.4998792 , 0.72481276, 0.74752356, 0.87895627,\n",
       "        0.85093018, 0.41966659, 0.74752356, 0.85503745, 0.84609809,\n",
       "        0.64484175, 0.74752356, 0.8241121 , 0.76226142, 0.71490698,\n",
       "        0.74752356, 0.75114762, 0.4998792 , 0.74607393]),\n",
       " 'split4_test_score': array([0.74389949, 0.74607393, 0.84005799, 0.45276637, 0.74389949,\n",
       "        0.75308045, 0.75138922, 0.65136506, 0.74389949, 0.69412902,\n",
       "        0.4998792 , 0.69364581, 0.74389949, 0.69606185, 0.4998792 ,\n",
       "        0.68784731, 0.74607393, 0.83474269, 0.84174921, 0.43706209,\n",
       "        0.74607393, 0.80889104, 0.7900459 , 0.60014496, 0.74607393,\n",
       "        0.74220826, 0.68567287, 0.71683982, 0.74607393, 0.69412902,\n",
       "        0.4998792 , 0.69364581, 0.74583233, 0.86059435, 0.84561488,\n",
       "        0.4375453 , 0.74583233, 0.84150761, 0.82894419, 0.59265523,\n",
       "        0.74583233, 0.78158976, 0.69944431, 0.74486591, 0.74583233,\n",
       "        0.73785939, 0.4998792 , 0.71732302, 0.74583233, 0.87339937,\n",
       "        0.84126601, 0.43827011, 0.74583233, 0.85020536, 0.84005799,\n",
       "        0.59265523, 0.74583233, 0.82338729, 0.75138922, 0.71224934,\n",
       "        0.74583233, 0.74704035, 0.4998792 , 0.74389949]),\n",
       " 'mean_test_score': array([0.77638072, 0.75347914, 0.82919466, 0.46820538, 0.77638072,\n",
       "        0.77604316, 0.77473855, 0.70501335, 0.77638072, 0.73506817,\n",
       "        0.54816423, 0.73468164, 0.77638072, 0.73608282, 0.54816423,\n",
       "        0.73255524, 0.77783025, 0.82354177, 0.82547434, 0.43800672,\n",
       "        0.77783025, 0.81334596, 0.80213573, 0.65162116, 0.77783025,\n",
       "        0.77348169, 0.71960661, 0.75589332, 0.77783025, 0.73501985,\n",
       "        0.54816423, 0.73468164, 0.77749205, 0.83997028, 0.82001476,\n",
       "        0.43752359, 0.77749205, 0.82953312, 0.82291304, 0.64809321,\n",
       "        0.77749205, 0.79657878, 0.73932024, 0.77700888, 0.77749205,\n",
       "        0.77087244, 0.54816423, 0.75623157, 0.77744373, 0.84340115,\n",
       "        0.81552143, 0.4377652 , 0.77744373, 0.83170758, 0.82919466,\n",
       "        0.65621191, 0.77744373, 0.8209805 , 0.77473855, 0.75569995,\n",
       "        0.77744373, 0.77903829, 0.54816423, 0.77638072]),\n",
       " 'std_test_score': array([0.02901257, 0.00485189, 0.0130218 , 0.01779068, 0.02901257,\n",
       "        0.0180486 , 0.01864919, 0.04884578, 0.02901257, 0.0331384 ,\n",
       "        0.09657006, 0.03304511, 0.02901257, 0.03325777, 0.09657006,\n",
       "        0.03930184, 0.02879981, 0.01618493, 0.01953148, 0.01430226,\n",
       "        0.02879981, 0.00598499, 0.01007582, 0.04871332, 0.02879981,\n",
       "        0.02620749, 0.0310496 , 0.03316498, 0.02879981, 0.03318341,\n",
       "        0.09657006, 0.03304511, 0.02868445, 0.02294373, 0.02603827,\n",
       "        0.01265976, 0.02868445, 0.01206184, 0.00582003, 0.05348551,\n",
       "        0.02868445, 0.01368134, 0.03147435, 0.02844038, 0.02868445,\n",
       "        0.02807271, 0.09657006, 0.03322866, 0.02861698, 0.03030766,\n",
       "        0.02836045, 0.01255739, 0.02861698, 0.01922775, 0.0130218 ,\n",
       "        0.04061146, 0.02861698, 0.00631333, 0.01853931, 0.03701986,\n",
       "        0.02861698, 0.02804187, 0.09657006, 0.02913023]),\n",
       " 'rank_test_score': array([30, 43,  5, 61, 30, 35, 36, 52, 30, 46, 56, 48, 30, 45, 56, 50, 17,\n",
       "         8,  7, 62, 17, 13, 14, 54, 17, 38, 51, 41, 17, 47, 56, 48, 21,  2,\n",
       "        11, 64, 21,  4,  9, 55, 21, 15, 44, 29, 21, 39, 56, 40, 25,  1, 12,\n",
       "        63, 25,  3,  5, 53, 25, 10, 36, 42, 25, 16, 56, 30])}"
      ]
     },
     "execution_count": 13,
     "metadata": {},
     "output_type": "execute_result"
    }
   ],
   "source": [
    "gridSVM.cv_results_ # grid search results"
   ]
  },
  {
   "cell_type": "code",
   "execution_count": 17,
   "metadata": {},
   "outputs": [],
   "source": [
    "# creatings lists of results that are put in  a dataframe\n",
    "\n",
    "c = []\n",
    "gamma = []\n",
    "kernel = []\n",
    "mean_test_score = []\n",
    "std_test_score = []\n",
    "for i in range(len(gridSVM.cv_results_[\"mean_test_score\"])):\n",
    "    c.append(gridSVM.cv_results_[\"param_C\"][i])\n",
    "    gamma.append(gridSVM.cv_results_[\"param_gamma\"][i])\n",
    "    kernel.append(gridSVM.cv_results_[\"param_kernel\"][i])    \n",
    "    mean_test_score.append(gridSVM.cv_results_[\"mean_test_score\"][i])\n",
    "    std_test_score.append(gridSVM.cv_results_[\"std_test_score\"][i])"
   ]
  },
  {
   "cell_type": "code",
   "execution_count": 18,
   "metadata": {},
   "outputs": [],
   "source": [
    "gs_result = pd.DataFrame(data={'C': c, 'Gamma': gamma, 'Kernel': kernel, 'mean score': mean_test_score, 'std score': std_test_score})"
   ]
  },
  {
   "cell_type": "code",
   "execution_count": 25,
   "metadata": {
    "scrolled": false
   },
   "outputs": [
    {
     "data": {
      "text/html": [
       "<style  type=\"text/css\" >\n",
       "#T_c6c4c124_8e1b_11eb_8cde_f0d5bfb2d7a1row2_col4,#T_c6c4c124_8e1b_11eb_8cde_f0d5bfb2d7a1row4_col0,#T_c6c4c124_8e1b_11eb_8cde_f0d5bfb2d7a1row4_col1,#T_c6c4c124_8e1b_11eb_8cde_f0d5bfb2d7a1row5_col0,#T_c6c4c124_8e1b_11eb_8cde_f0d5bfb2d7a1row5_col1,#T_c6c4c124_8e1b_11eb_8cde_f0d5bfb2d7a1row5_col3,#T_c6c4c124_8e1b_11eb_8cde_f0d5bfb2d7a1row6_col0,#T_c6c4c124_8e1b_11eb_8cde_f0d5bfb2d7a1row6_col1,#T_c6c4c124_8e1b_11eb_8cde_f0d5bfb2d7a1row7_col0,#T_c6c4c124_8e1b_11eb_8cde_f0d5bfb2d7a1row7_col1,#T_c6c4c124_8e1b_11eb_8cde_f0d5bfb2d7a1row8_col0,#T_c6c4c124_8e1b_11eb_8cde_f0d5bfb2d7a1row9_col0,#T_c6c4c124_8e1b_11eb_8cde_f0d5bfb2d7a1row10_col0,#T_c6c4c124_8e1b_11eb_8cde_f0d5bfb2d7a1row11_col0,#T_c6c4c124_8e1b_11eb_8cde_f0d5bfb2d7a1row12_col0,#T_c6c4c124_8e1b_11eb_8cde_f0d5bfb2d7a1row13_col0,#T_c6c4c124_8e1b_11eb_8cde_f0d5bfb2d7a1row14_col0,#T_c6c4c124_8e1b_11eb_8cde_f0d5bfb2d7a1row15_col0,#T_c6c4c124_8e1b_11eb_8cde_f0d5bfb2d7a1row16_col0,#T_c6c4c124_8e1b_11eb_8cde_f0d5bfb2d7a1row17_col0,#T_c6c4c124_8e1b_11eb_8cde_f0d5bfb2d7a1row18_col0,#T_c6c4c124_8e1b_11eb_8cde_f0d5bfb2d7a1row18_col4,#T_c6c4c124_8e1b_11eb_8cde_f0d5bfb2d7a1row19_col0{\n",
       "            background-color:  yellow;\n",
       "        }</style><table id=\"T_c6c4c124_8e1b_11eb_8cde_f0d5bfb2d7a1\" ><thead>    <tr>        <th class=\"blank level0\" ></th>        <th class=\"col_heading level0 col0\" >C</th>        <th class=\"col_heading level0 col1\" >Gamma</th>        <th class=\"col_heading level0 col2\" >Kernel</th>        <th class=\"col_heading level0 col3\" >mean score</th>        <th class=\"col_heading level0 col4\" >std score</th>    </tr></thead><tbody>\n",
       "                <tr>\n",
       "                        <th id=\"T_c6c4c124_8e1b_11eb_8cde_f0d5bfb2d7a1level0_row0\" class=\"row_heading level0 row0\" >44</th>\n",
       "                        <td id=\"T_c6c4c124_8e1b_11eb_8cde_f0d5bfb2d7a1row0_col0\" class=\"data row0 col0\" >10.000000</td>\n",
       "                        <td id=\"T_c6c4c124_8e1b_11eb_8cde_f0d5bfb2d7a1row0_col1\" class=\"data row0 col1\" >0.001000</td>\n",
       "                        <td id=\"T_c6c4c124_8e1b_11eb_8cde_f0d5bfb2d7a1row0_col2\" class=\"data row0 col2\" >linear</td>\n",
       "                        <td id=\"T_c6c4c124_8e1b_11eb_8cde_f0d5bfb2d7a1row0_col3\" class=\"data row0 col3\" >0.777492</td>\n",
       "                        <td id=\"T_c6c4c124_8e1b_11eb_8cde_f0d5bfb2d7a1row0_col4\" class=\"data row0 col4\" >0.028684</td>\n",
       "            </tr>\n",
       "            <tr>\n",
       "                        <th id=\"T_c6c4c124_8e1b_11eb_8cde_f0d5bfb2d7a1level0_row1\" class=\"row_heading level0 row1\" >45</th>\n",
       "                        <td id=\"T_c6c4c124_8e1b_11eb_8cde_f0d5bfb2d7a1row1_col0\" class=\"data row1 col0\" >10.000000</td>\n",
       "                        <td id=\"T_c6c4c124_8e1b_11eb_8cde_f0d5bfb2d7a1row1_col1\" class=\"data row1 col1\" >0.001000</td>\n",
       "                        <td id=\"T_c6c4c124_8e1b_11eb_8cde_f0d5bfb2d7a1row1_col2\" class=\"data row1 col2\" >rbf</td>\n",
       "                        <td id=\"T_c6c4c124_8e1b_11eb_8cde_f0d5bfb2d7a1row1_col3\" class=\"data row1 col3\" >0.770872</td>\n",
       "                        <td id=\"T_c6c4c124_8e1b_11eb_8cde_f0d5bfb2d7a1row1_col4\" class=\"data row1 col4\" >0.028073</td>\n",
       "            </tr>\n",
       "            <tr>\n",
       "                        <th id=\"T_c6c4c124_8e1b_11eb_8cde_f0d5bfb2d7a1level0_row2\" class=\"row_heading level0 row2\" >46</th>\n",
       "                        <td id=\"T_c6c4c124_8e1b_11eb_8cde_f0d5bfb2d7a1row2_col0\" class=\"data row2 col0\" >10.000000</td>\n",
       "                        <td id=\"T_c6c4c124_8e1b_11eb_8cde_f0d5bfb2d7a1row2_col1\" class=\"data row2 col1\" >0.001000</td>\n",
       "                        <td id=\"T_c6c4c124_8e1b_11eb_8cde_f0d5bfb2d7a1row2_col2\" class=\"data row2 col2\" >poly</td>\n",
       "                        <td id=\"T_c6c4c124_8e1b_11eb_8cde_f0d5bfb2d7a1row2_col3\" class=\"data row2 col3\" >0.548164</td>\n",
       "                        <td id=\"T_c6c4c124_8e1b_11eb_8cde_f0d5bfb2d7a1row2_col4\" class=\"data row2 col4\" >0.096570</td>\n",
       "            </tr>\n",
       "            <tr>\n",
       "                        <th id=\"T_c6c4c124_8e1b_11eb_8cde_f0d5bfb2d7a1level0_row3\" class=\"row_heading level0 row3\" >47</th>\n",
       "                        <td id=\"T_c6c4c124_8e1b_11eb_8cde_f0d5bfb2d7a1row3_col0\" class=\"data row3 col0\" >10.000000</td>\n",
       "                        <td id=\"T_c6c4c124_8e1b_11eb_8cde_f0d5bfb2d7a1row3_col1\" class=\"data row3 col1\" >0.001000</td>\n",
       "                        <td id=\"T_c6c4c124_8e1b_11eb_8cde_f0d5bfb2d7a1row3_col2\" class=\"data row3 col2\" >sigmoid</td>\n",
       "                        <td id=\"T_c6c4c124_8e1b_11eb_8cde_f0d5bfb2d7a1row3_col3\" class=\"data row3 col3\" >0.756232</td>\n",
       "                        <td id=\"T_c6c4c124_8e1b_11eb_8cde_f0d5bfb2d7a1row3_col4\" class=\"data row3 col4\" >0.033229</td>\n",
       "            </tr>\n",
       "            <tr>\n",
       "                        <th id=\"T_c6c4c124_8e1b_11eb_8cde_f0d5bfb2d7a1level0_row4\" class=\"row_heading level0 row4\" >48</th>\n",
       "                        <td id=\"T_c6c4c124_8e1b_11eb_8cde_f0d5bfb2d7a1row4_col0\" class=\"data row4 col0\" >100.000000</td>\n",
       "                        <td id=\"T_c6c4c124_8e1b_11eb_8cde_f0d5bfb2d7a1row4_col1\" class=\"data row4 col1\" >1.000000</td>\n",
       "                        <td id=\"T_c6c4c124_8e1b_11eb_8cde_f0d5bfb2d7a1row4_col2\" class=\"data row4 col2\" >linear</td>\n",
       "                        <td id=\"T_c6c4c124_8e1b_11eb_8cde_f0d5bfb2d7a1row4_col3\" class=\"data row4 col3\" >0.777444</td>\n",
       "                        <td id=\"T_c6c4c124_8e1b_11eb_8cde_f0d5bfb2d7a1row4_col4\" class=\"data row4 col4\" >0.028617</td>\n",
       "            </tr>\n",
       "            <tr>\n",
       "                        <th id=\"T_c6c4c124_8e1b_11eb_8cde_f0d5bfb2d7a1level0_row5\" class=\"row_heading level0 row5\" >49</th>\n",
       "                        <td id=\"T_c6c4c124_8e1b_11eb_8cde_f0d5bfb2d7a1row5_col0\" class=\"data row5 col0\" >100.000000</td>\n",
       "                        <td id=\"T_c6c4c124_8e1b_11eb_8cde_f0d5bfb2d7a1row5_col1\" class=\"data row5 col1\" >1.000000</td>\n",
       "                        <td id=\"T_c6c4c124_8e1b_11eb_8cde_f0d5bfb2d7a1row5_col2\" class=\"data row5 col2\" >rbf</td>\n",
       "                        <td id=\"T_c6c4c124_8e1b_11eb_8cde_f0d5bfb2d7a1row5_col3\" class=\"data row5 col3\" >0.843401</td>\n",
       "                        <td id=\"T_c6c4c124_8e1b_11eb_8cde_f0d5bfb2d7a1row5_col4\" class=\"data row5 col4\" >0.030308</td>\n",
       "            </tr>\n",
       "            <tr>\n",
       "                        <th id=\"T_c6c4c124_8e1b_11eb_8cde_f0d5bfb2d7a1level0_row6\" class=\"row_heading level0 row6\" >50</th>\n",
       "                        <td id=\"T_c6c4c124_8e1b_11eb_8cde_f0d5bfb2d7a1row6_col0\" class=\"data row6 col0\" >100.000000</td>\n",
       "                        <td id=\"T_c6c4c124_8e1b_11eb_8cde_f0d5bfb2d7a1row6_col1\" class=\"data row6 col1\" >1.000000</td>\n",
       "                        <td id=\"T_c6c4c124_8e1b_11eb_8cde_f0d5bfb2d7a1row6_col2\" class=\"data row6 col2\" >poly</td>\n",
       "                        <td id=\"T_c6c4c124_8e1b_11eb_8cde_f0d5bfb2d7a1row6_col3\" class=\"data row6 col3\" >0.815521</td>\n",
       "                        <td id=\"T_c6c4c124_8e1b_11eb_8cde_f0d5bfb2d7a1row6_col4\" class=\"data row6 col4\" >0.028360</td>\n",
       "            </tr>\n",
       "            <tr>\n",
       "                        <th id=\"T_c6c4c124_8e1b_11eb_8cde_f0d5bfb2d7a1level0_row7\" class=\"row_heading level0 row7\" >51</th>\n",
       "                        <td id=\"T_c6c4c124_8e1b_11eb_8cde_f0d5bfb2d7a1row7_col0\" class=\"data row7 col0\" >100.000000</td>\n",
       "                        <td id=\"T_c6c4c124_8e1b_11eb_8cde_f0d5bfb2d7a1row7_col1\" class=\"data row7 col1\" >1.000000</td>\n",
       "                        <td id=\"T_c6c4c124_8e1b_11eb_8cde_f0d5bfb2d7a1row7_col2\" class=\"data row7 col2\" >sigmoid</td>\n",
       "                        <td id=\"T_c6c4c124_8e1b_11eb_8cde_f0d5bfb2d7a1row7_col3\" class=\"data row7 col3\" >0.437765</td>\n",
       "                        <td id=\"T_c6c4c124_8e1b_11eb_8cde_f0d5bfb2d7a1row7_col4\" class=\"data row7 col4\" >0.012557</td>\n",
       "            </tr>\n",
       "            <tr>\n",
       "                        <th id=\"T_c6c4c124_8e1b_11eb_8cde_f0d5bfb2d7a1level0_row8\" class=\"row_heading level0 row8\" >52</th>\n",
       "                        <td id=\"T_c6c4c124_8e1b_11eb_8cde_f0d5bfb2d7a1row8_col0\" class=\"data row8 col0\" >100.000000</td>\n",
       "                        <td id=\"T_c6c4c124_8e1b_11eb_8cde_f0d5bfb2d7a1row8_col1\" class=\"data row8 col1\" >0.100000</td>\n",
       "                        <td id=\"T_c6c4c124_8e1b_11eb_8cde_f0d5bfb2d7a1row8_col2\" class=\"data row8 col2\" >linear</td>\n",
       "                        <td id=\"T_c6c4c124_8e1b_11eb_8cde_f0d5bfb2d7a1row8_col3\" class=\"data row8 col3\" >0.777444</td>\n",
       "                        <td id=\"T_c6c4c124_8e1b_11eb_8cde_f0d5bfb2d7a1row8_col4\" class=\"data row8 col4\" >0.028617</td>\n",
       "            </tr>\n",
       "            <tr>\n",
       "                        <th id=\"T_c6c4c124_8e1b_11eb_8cde_f0d5bfb2d7a1level0_row9\" class=\"row_heading level0 row9\" >53</th>\n",
       "                        <td id=\"T_c6c4c124_8e1b_11eb_8cde_f0d5bfb2d7a1row9_col0\" class=\"data row9 col0\" >100.000000</td>\n",
       "                        <td id=\"T_c6c4c124_8e1b_11eb_8cde_f0d5bfb2d7a1row9_col1\" class=\"data row9 col1\" >0.100000</td>\n",
       "                        <td id=\"T_c6c4c124_8e1b_11eb_8cde_f0d5bfb2d7a1row9_col2\" class=\"data row9 col2\" >rbf</td>\n",
       "                        <td id=\"T_c6c4c124_8e1b_11eb_8cde_f0d5bfb2d7a1row9_col3\" class=\"data row9 col3\" >0.831708</td>\n",
       "                        <td id=\"T_c6c4c124_8e1b_11eb_8cde_f0d5bfb2d7a1row9_col4\" class=\"data row9 col4\" >0.019228</td>\n",
       "            </tr>\n",
       "            <tr>\n",
       "                        <th id=\"T_c6c4c124_8e1b_11eb_8cde_f0d5bfb2d7a1level0_row10\" class=\"row_heading level0 row10\" >54</th>\n",
       "                        <td id=\"T_c6c4c124_8e1b_11eb_8cde_f0d5bfb2d7a1row10_col0\" class=\"data row10 col0\" >100.000000</td>\n",
       "                        <td id=\"T_c6c4c124_8e1b_11eb_8cde_f0d5bfb2d7a1row10_col1\" class=\"data row10 col1\" >0.100000</td>\n",
       "                        <td id=\"T_c6c4c124_8e1b_11eb_8cde_f0d5bfb2d7a1row10_col2\" class=\"data row10 col2\" >poly</td>\n",
       "                        <td id=\"T_c6c4c124_8e1b_11eb_8cde_f0d5bfb2d7a1row10_col3\" class=\"data row10 col3\" >0.829195</td>\n",
       "                        <td id=\"T_c6c4c124_8e1b_11eb_8cde_f0d5bfb2d7a1row10_col4\" class=\"data row10 col4\" >0.013022</td>\n",
       "            </tr>\n",
       "            <tr>\n",
       "                        <th id=\"T_c6c4c124_8e1b_11eb_8cde_f0d5bfb2d7a1level0_row11\" class=\"row_heading level0 row11\" >55</th>\n",
       "                        <td id=\"T_c6c4c124_8e1b_11eb_8cde_f0d5bfb2d7a1row11_col0\" class=\"data row11 col0\" >100.000000</td>\n",
       "                        <td id=\"T_c6c4c124_8e1b_11eb_8cde_f0d5bfb2d7a1row11_col1\" class=\"data row11 col1\" >0.100000</td>\n",
       "                        <td id=\"T_c6c4c124_8e1b_11eb_8cde_f0d5bfb2d7a1row11_col2\" class=\"data row11 col2\" >sigmoid</td>\n",
       "                        <td id=\"T_c6c4c124_8e1b_11eb_8cde_f0d5bfb2d7a1row11_col3\" class=\"data row11 col3\" >0.656212</td>\n",
       "                        <td id=\"T_c6c4c124_8e1b_11eb_8cde_f0d5bfb2d7a1row11_col4\" class=\"data row11 col4\" >0.040611</td>\n",
       "            </tr>\n",
       "            <tr>\n",
       "                        <th id=\"T_c6c4c124_8e1b_11eb_8cde_f0d5bfb2d7a1level0_row12\" class=\"row_heading level0 row12\" >56</th>\n",
       "                        <td id=\"T_c6c4c124_8e1b_11eb_8cde_f0d5bfb2d7a1row12_col0\" class=\"data row12 col0\" >100.000000</td>\n",
       "                        <td id=\"T_c6c4c124_8e1b_11eb_8cde_f0d5bfb2d7a1row12_col1\" class=\"data row12 col1\" >0.010000</td>\n",
       "                        <td id=\"T_c6c4c124_8e1b_11eb_8cde_f0d5bfb2d7a1row12_col2\" class=\"data row12 col2\" >linear</td>\n",
       "                        <td id=\"T_c6c4c124_8e1b_11eb_8cde_f0d5bfb2d7a1row12_col3\" class=\"data row12 col3\" >0.777444</td>\n",
       "                        <td id=\"T_c6c4c124_8e1b_11eb_8cde_f0d5bfb2d7a1row12_col4\" class=\"data row12 col4\" >0.028617</td>\n",
       "            </tr>\n",
       "            <tr>\n",
       "                        <th id=\"T_c6c4c124_8e1b_11eb_8cde_f0d5bfb2d7a1level0_row13\" class=\"row_heading level0 row13\" >57</th>\n",
       "                        <td id=\"T_c6c4c124_8e1b_11eb_8cde_f0d5bfb2d7a1row13_col0\" class=\"data row13 col0\" >100.000000</td>\n",
       "                        <td id=\"T_c6c4c124_8e1b_11eb_8cde_f0d5bfb2d7a1row13_col1\" class=\"data row13 col1\" >0.010000</td>\n",
       "                        <td id=\"T_c6c4c124_8e1b_11eb_8cde_f0d5bfb2d7a1row13_col2\" class=\"data row13 col2\" >rbf</td>\n",
       "                        <td id=\"T_c6c4c124_8e1b_11eb_8cde_f0d5bfb2d7a1row13_col3\" class=\"data row13 col3\" >0.820981</td>\n",
       "                        <td id=\"T_c6c4c124_8e1b_11eb_8cde_f0d5bfb2d7a1row13_col4\" class=\"data row13 col4\" >0.006313</td>\n",
       "            </tr>\n",
       "            <tr>\n",
       "                        <th id=\"T_c6c4c124_8e1b_11eb_8cde_f0d5bfb2d7a1level0_row14\" class=\"row_heading level0 row14\" >58</th>\n",
       "                        <td id=\"T_c6c4c124_8e1b_11eb_8cde_f0d5bfb2d7a1row14_col0\" class=\"data row14 col0\" >100.000000</td>\n",
       "                        <td id=\"T_c6c4c124_8e1b_11eb_8cde_f0d5bfb2d7a1row14_col1\" class=\"data row14 col1\" >0.010000</td>\n",
       "                        <td id=\"T_c6c4c124_8e1b_11eb_8cde_f0d5bfb2d7a1row14_col2\" class=\"data row14 col2\" >poly</td>\n",
       "                        <td id=\"T_c6c4c124_8e1b_11eb_8cde_f0d5bfb2d7a1row14_col3\" class=\"data row14 col3\" >0.774739</td>\n",
       "                        <td id=\"T_c6c4c124_8e1b_11eb_8cde_f0d5bfb2d7a1row14_col4\" class=\"data row14 col4\" >0.018539</td>\n",
       "            </tr>\n",
       "            <tr>\n",
       "                        <th id=\"T_c6c4c124_8e1b_11eb_8cde_f0d5bfb2d7a1level0_row15\" class=\"row_heading level0 row15\" >59</th>\n",
       "                        <td id=\"T_c6c4c124_8e1b_11eb_8cde_f0d5bfb2d7a1row15_col0\" class=\"data row15 col0\" >100.000000</td>\n",
       "                        <td id=\"T_c6c4c124_8e1b_11eb_8cde_f0d5bfb2d7a1row15_col1\" class=\"data row15 col1\" >0.010000</td>\n",
       "                        <td id=\"T_c6c4c124_8e1b_11eb_8cde_f0d5bfb2d7a1row15_col2\" class=\"data row15 col2\" >sigmoid</td>\n",
       "                        <td id=\"T_c6c4c124_8e1b_11eb_8cde_f0d5bfb2d7a1row15_col3\" class=\"data row15 col3\" >0.755700</td>\n",
       "                        <td id=\"T_c6c4c124_8e1b_11eb_8cde_f0d5bfb2d7a1row15_col4\" class=\"data row15 col4\" >0.037020</td>\n",
       "            </tr>\n",
       "            <tr>\n",
       "                        <th id=\"T_c6c4c124_8e1b_11eb_8cde_f0d5bfb2d7a1level0_row16\" class=\"row_heading level0 row16\" >60</th>\n",
       "                        <td id=\"T_c6c4c124_8e1b_11eb_8cde_f0d5bfb2d7a1row16_col0\" class=\"data row16 col0\" >100.000000</td>\n",
       "                        <td id=\"T_c6c4c124_8e1b_11eb_8cde_f0d5bfb2d7a1row16_col1\" class=\"data row16 col1\" >0.001000</td>\n",
       "                        <td id=\"T_c6c4c124_8e1b_11eb_8cde_f0d5bfb2d7a1row16_col2\" class=\"data row16 col2\" >linear</td>\n",
       "                        <td id=\"T_c6c4c124_8e1b_11eb_8cde_f0d5bfb2d7a1row16_col3\" class=\"data row16 col3\" >0.777444</td>\n",
       "                        <td id=\"T_c6c4c124_8e1b_11eb_8cde_f0d5bfb2d7a1row16_col4\" class=\"data row16 col4\" >0.028617</td>\n",
       "            </tr>\n",
       "            <tr>\n",
       "                        <th id=\"T_c6c4c124_8e1b_11eb_8cde_f0d5bfb2d7a1level0_row17\" class=\"row_heading level0 row17\" >61</th>\n",
       "                        <td id=\"T_c6c4c124_8e1b_11eb_8cde_f0d5bfb2d7a1row17_col0\" class=\"data row17 col0\" >100.000000</td>\n",
       "                        <td id=\"T_c6c4c124_8e1b_11eb_8cde_f0d5bfb2d7a1row17_col1\" class=\"data row17 col1\" >0.001000</td>\n",
       "                        <td id=\"T_c6c4c124_8e1b_11eb_8cde_f0d5bfb2d7a1row17_col2\" class=\"data row17 col2\" >rbf</td>\n",
       "                        <td id=\"T_c6c4c124_8e1b_11eb_8cde_f0d5bfb2d7a1row17_col3\" class=\"data row17 col3\" >0.779038</td>\n",
       "                        <td id=\"T_c6c4c124_8e1b_11eb_8cde_f0d5bfb2d7a1row17_col4\" class=\"data row17 col4\" >0.028042</td>\n",
       "            </tr>\n",
       "            <tr>\n",
       "                        <th id=\"T_c6c4c124_8e1b_11eb_8cde_f0d5bfb2d7a1level0_row18\" class=\"row_heading level0 row18\" >62</th>\n",
       "                        <td id=\"T_c6c4c124_8e1b_11eb_8cde_f0d5bfb2d7a1row18_col0\" class=\"data row18 col0\" >100.000000</td>\n",
       "                        <td id=\"T_c6c4c124_8e1b_11eb_8cde_f0d5bfb2d7a1row18_col1\" class=\"data row18 col1\" >0.001000</td>\n",
       "                        <td id=\"T_c6c4c124_8e1b_11eb_8cde_f0d5bfb2d7a1row18_col2\" class=\"data row18 col2\" >poly</td>\n",
       "                        <td id=\"T_c6c4c124_8e1b_11eb_8cde_f0d5bfb2d7a1row18_col3\" class=\"data row18 col3\" >0.548164</td>\n",
       "                        <td id=\"T_c6c4c124_8e1b_11eb_8cde_f0d5bfb2d7a1row18_col4\" class=\"data row18 col4\" >0.096570</td>\n",
       "            </tr>\n",
       "            <tr>\n",
       "                        <th id=\"T_c6c4c124_8e1b_11eb_8cde_f0d5bfb2d7a1level0_row19\" class=\"row_heading level0 row19\" >63</th>\n",
       "                        <td id=\"T_c6c4c124_8e1b_11eb_8cde_f0d5bfb2d7a1row19_col0\" class=\"data row19 col0\" >100.000000</td>\n",
       "                        <td id=\"T_c6c4c124_8e1b_11eb_8cde_f0d5bfb2d7a1row19_col1\" class=\"data row19 col1\" >0.001000</td>\n",
       "                        <td id=\"T_c6c4c124_8e1b_11eb_8cde_f0d5bfb2d7a1row19_col2\" class=\"data row19 col2\" >sigmoid</td>\n",
       "                        <td id=\"T_c6c4c124_8e1b_11eb_8cde_f0d5bfb2d7a1row19_col3\" class=\"data row19 col3\" >0.776381</td>\n",
       "                        <td id=\"T_c6c4c124_8e1b_11eb_8cde_f0d5bfb2d7a1row19_col4\" class=\"data row19 col4\" >0.029130</td>\n",
       "            </tr>\n",
       "    </tbody></table>"
      ],
      "text/plain": [
       "<pandas.io.formats.style.Styler at 0x1d55a566d30>"
      ]
     },
     "execution_count": 25,
     "metadata": {},
     "output_type": "execute_result"
    }
   ],
   "source": [
    "gs_result.iloc[-20:,:]"
   ]
  },
  {
   "cell_type": "markdown",
   "metadata": {},
   "source": [
    "## Retrain SVM with bigger dataset using best parameters\n"
   ]
  },
  {
   "cell_type": "code",
   "execution_count": 73,
   "metadata": {},
   "outputs": [],
   "source": [
    "#Using smaller training set for Grid search\n",
    "from sklearn.model_selection import train_test_split\n",
    "\n",
    "X_train, X_test, y_train, y_test = train_test_split(X_df, y, test_size=0.25, random_state = 1)\n",
    "\n",
    "#Smote and random undersampling implementation\n",
    "\n",
    "from imblearn.over_sampling import BorderlineSMOTE\n",
    "from imblearn.under_sampling import RandomUnderSampler \n",
    "undersample = RandomUnderSampler(sampling_strategy=0.5)\n",
    "oversample = BorderlineSMOTE()\n",
    "\n",
    "X_train, y_train = undersample.fit_resample(X_train, y_train)\n",
    "X_trainres, y_trainres = oversample.fit_resample(X_train, y_train)"
   ]
  },
  {
   "cell_type": "code",
   "execution_count": 74,
   "metadata": {},
   "outputs": [],
   "source": [
    "# creating svm with best parameters\n",
    "\n",
    "SVM = SVC(C=100, gamma = 1, kernel = 'rbf',probability = True)"
   ]
  },
  {
   "cell_type": "code",
   "execution_count": 75,
   "metadata": {},
   "outputs": [
    {
     "data": {
      "text/plain": [
       "SVC(C=100, gamma=1, probability=True)"
      ]
     },
     "execution_count": 75,
     "metadata": {},
     "output_type": "execute_result"
    }
   ],
   "source": [
    "# training svm\n",
    "\n",
    "SVM.fit(X_trainres, y_trainres.values.ravel())"
   ]
  },
  {
   "cell_type": "code",
   "execution_count": 35,
   "metadata": {},
   "outputs": [
    {
     "name": "stdout",
     "output_type": "stream",
     "text": [
      "[[5621 1587]\n",
      " [ 544 1561]]\n",
      "Accuracy =  0.7711800708686782\n"
     ]
    }
   ],
   "source": [
    "# evaluation metrics for best SVM\n",
    "\n",
    "from sklearn.metrics import confusion_matrix\n",
    "y_pred = SVM.predict(X_test)\n",
    "cmatrix = confusion_matrix(y_test, y_pred)\n",
    "print(cmatrix)\n",
    "print(\"Accuracy = \", (cmatrix[0,0]+cmatrix[1,1])/cmatrix.sum())"
   ]
  },
  {
   "cell_type": "code",
   "execution_count": 37,
   "metadata": {},
   "outputs": [
    {
     "name": "stdout",
     "output_type": "stream",
     "text": [
      "F1-Score =  0.8422866561774182\n",
      "Sensitivity =  0.7798279689234184\n",
      "Specificity =  0.7415676959619952\n"
     ]
    }
   ],
   "source": [
    "print(\"F1-Score = \", cmatrix[0][0]/(cmatrix[0][0] + (1/2)*(cmatrix[1][0]+cmatrix[1][1])))\n",
    "print(\"Sensitivity = \", cmatrix[0][0]/(cmatrix[0][1]+cmatrix[0][0])) \n",
    "print(\"Specificity = \", cmatrix[1][1]/(cmatrix[1][0]+cmatrix[1][1]))"
   ]
  },
  {
   "cell_type": "markdown",
   "metadata": {},
   "source": [
    "### Testing with different test sizes"
   ]
  },
  {
   "cell_type": "code",
   "execution_count": 40,
   "metadata": {},
   "outputs": [
    {
     "name": "stdout",
     "output_type": "stream",
     "text": [
      "Test size: 0.4\n",
      "[[9131 2375]\n",
      " [ 950 2444]]\n",
      "Accuracy =  0.7768456375838926\n",
      "F1-Score =  0.8432766900628001\n",
      "Sensitivity =  0.7935859551538328\n",
      "Specificity =  0.7200942840306424\n",
      "Test size: 0.6\n",
      "[[13795  3468]\n",
      " [ 1552  3535]]\n",
      "Accuracy =  0.7753914988814318\n",
      "F1-Score =  0.8443247544144199\n",
      "Sensitivity =  0.7991079186699879\n",
      "Specificity =  0.6949085905248673\n",
      "Test size: 0.8\n",
      "[[18895  4074]\n",
      " [ 2397  4434]]\n",
      "Accuracy =  0.7828523489932886\n",
      "F1-Score =  0.8469106474529929\n",
      "Sensitivity =  0.8226305019809308\n",
      "Specificity =  0.6490996925779534\n"
     ]
    }
   ],
   "source": [
    "# manual seach applied with varying dataset sizes\n",
    "\n",
    "\n",
    "from sklearn.model_selection import train_test_split\n",
    "ts = [0.4, 0.6, 0.8]\n",
    "ac = []\n",
    "f1 = []\n",
    "sens = []\n",
    "spec = []\n",
    "for i in range(len(ts)):\n",
    "    X_train, X_test, y_train, y_test = train_test_split(X_df, y, test_size=ts[i], random_state = 1)\n",
    "\n",
    "    #Smote implementation with one hot encoding\n",
    "\n",
    "    from imblearn.over_sampling import BorderlineSMOTE\n",
    "    from imblearn.under_sampling import RandomUnderSampler \n",
    "    undersample = RandomUnderSampler(sampling_strategy=0.5)\n",
    "    oversample = BorderlineSMOTE()\n",
    "\n",
    "    X_train, y_train = undersample.fit_resample(X_train, y_train)\n",
    "    X_trainres, y_trainres = oversample.fit_resample(X_train, y_train)\n",
    "    SVM = SVC(C=100, gamma = 1, kernel = 'rbf')\n",
    "    SVM.fit(X_trainres, y_trainres.values.ravel())\n",
    "    from sklearn.metrics import confusion_matrix\n",
    "    y_pred = SVM.predict(X_test)\n",
    "    cmatrix = confusion_matrix(y_test, y_pred)\n",
    "    a = (cmatrix[0,0]+cmatrix[1,1])/cmatrix.sum()\n",
    "    f1s = cmatrix[0][0]/(cmatrix[0][0] + (1/2)*(cmatrix[1][0]+cmatrix[1][1]))\n",
    "    sen = cmatrix[0][0]/(cmatrix[0][1]+cmatrix[0][0])\n",
    "    spe = cmatrix[1][1]/(cmatrix[1][0]+cmatrix[1][1])\n",
    "    print(\"Test size:\", ts[i])\n",
    "    print(cmatrix)\n",
    "    print(\"Accuracy = \", a)\n",
    "    print(\"F1-Score = \", f1s)\n",
    "    print(\"Sensitivity = \", sen) \n",
    "    print(\"Specificity = \", spe)\n",
    "    ac.append(a)\n",
    "    f1.append(f1s)\n",
    "    sens.append(sen)\n",
    "    spec.append(spe)"
   ]
  },
  {
   "cell_type": "code",
   "execution_count": 59,
   "metadata": {},
   "outputs": [
    {
     "data": {
      "text/plain": [
       "<matplotlib.legend.Legend at 0x1d500095898>"
      ]
     },
     "execution_count": 59,
     "metadata": {},
     "output_type": "execute_result"
    },
    {
     "data": {
      "image/png": "[encoded data removed]",
      "text/plain": [
       "<Figure size 576x396 with 1 Axes>"
      ]
     },
     "metadata": {},
     "output_type": "display_data"
    }
   ],
   "source": [
    "plt.plot(ts, ac,label=\"Accuracy\")\n",
    "plt.plot(ts, f1,label = \"F1 \")\n",
    "plt.plot(ts,sens,label = \"Sensitivity\")\n",
    "plt.plot(ts, spec,label = \"Specificity\")\n",
    "plt.legend()"
   ]
  },
  {
   "cell_type": "code",
   "execution_count": null,
   "metadata": {},
   "outputs": [],
   "source": [
    "# Smaller training set decreases spec but increases sens, not ideal when test data is balanced "
   ]
  },
  {
   "cell_type": "markdown",
   "metadata": {},
   "source": [
    "### Varying degrees of undersampling "
   ]
  },
  {
   "cell_type": "code",
   "execution_count": 44,
   "metadata": {},
   "outputs": [
    {
     "name": "stdout",
     "output_type": "stream",
     "text": [
      "Test size: 0.99\n",
      "[[11233  3159]\n",
      " [ 1012  3221]]\n",
      "Accuracy =  0.7760536912751678\n",
      "F1-Score =  0.8414547361324394\n",
      "Sensitivity =  0.78050305725403\n",
      "Specificity =  0.7609260571698558\n",
      "Test size: 0.97\n",
      "[[11154  3238]\n",
      " [ 1050  3183]]\n",
      "Accuracy =  0.7697718120805369\n",
      "F1-Score =  0.8405109076523115\n",
      "Sensitivity =  0.7750138966092274\n",
      "Specificity =  0.7519489723600283\n",
      "Test size: 0.95\n",
      "[[11148  3244]\n",
      " [ 1084  3149]]\n",
      "Accuracy =  0.7676241610738255\n",
      "F1-Score =  0.8404387651249576\n",
      "Sensitivity =  0.7745969983324069\n",
      "Specificity =  0.7439168438459721\n",
      "Test size: 0.93\n",
      "[[11135  3257]\n",
      " [ 1060  3173]]\n",
      "Accuracy =  0.7682147651006711\n",
      "F1-Score =  0.8402822322001283\n",
      "Sensitivity =  0.7736937187326293\n",
      "Specificity =  0.7495865816206001\n",
      "Test size: 0.9\n",
      "[[11055  3337]\n",
      " [ 1064  3169]]\n",
      "Accuracy =  0.7637046979865771\n",
      "F1-Score =  0.8393121512356224\n",
      "Sensitivity =  0.7681350750416899\n",
      "Specificity =  0.7486416253248287\n",
      "Test size: 0.8\n",
      "[[11223  3169]\n",
      " [ 1108  3125]]\n",
      "Accuracy =  0.7703624161073825\n",
      "F1-Score =  0.8413358821545035\n",
      "Sensitivity =  0.7798082267926626\n",
      "Specificity =  0.7382471060713443\n",
      "Test size: 0.7\n",
      "[[11220  3172]\n",
      " [ 1165  3068]]\n",
      "Accuracy =  0.7671409395973154\n",
      "F1-Score =  0.8413001912045889\n",
      "Sensitivity =  0.7795997776542524\n",
      "Specificity =  0.7247814788566029\n",
      "Test size: 0.6\n",
      "[[11297  3095]\n",
      " [ 1188  3045]]\n",
      "Accuracy =  0.7700402684563759\n",
      "F1-Score =  0.8422112051291609\n",
      "Sensitivity =  0.7849499722067815\n",
      "Specificity =  0.7193479801559178\n",
      "Test size: 0.5\n",
      "[[11474  2918]\n",
      " [ 1256  2977]]\n",
      "Accuracy =  0.7758926174496644\n",
      "F1-Score =  0.8442662153710312\n",
      "Sensitivity =  0.797248471372985\n",
      "Specificity =  0.7032837231278053\n"
     ]
    }
   ],
   "source": [
    "# manual grid search with varying degrees of undersampling \n",
    "\n",
    "from sklearn.model_selection import train_test_split\n",
    "samp = [0.99, 0.97, 0.95, 0.93, 0.9, 0.8, 0.7, 0.6, 0.5]\n",
    "ac1 = []\n",
    "f11 = []\n",
    "sens1 = []\n",
    "spec1 = []\n",
    "for i in range(len(ts)):\n",
    "    X_train, X_test, y_train, y_test = train_test_split(X_df, y, test_size=0.5, random_state = 1)\n",
    "\n",
    "    #Smote implementation with one hot encoding\n",
    "\n",
    "    from imblearn.over_sampling import BorderlineSMOTE\n",
    "    from imblearn.under_sampling import RandomUnderSampler \n",
    "    undersample = RandomUnderSampler(sampling_strategy=samp[i])\n",
    "    oversample = BorderlineSMOTE()\n",
    "\n",
    "    X_train, y_train = undersample.fit_resample(X_train, y_train)\n",
    "    X_trainres, y_trainres = oversample.fit_resample(X_train, y_train)\n",
    "    SVM = SVC(C=100, gamma = 1, kernel = 'rbf')\n",
    "    SVM.fit(X_trainres, y_trainres.values.ravel())\n",
    "    from sklearn.metrics import confusion_matrix\n",
    "    y_pred = SVM.predict(X_test)\n",
    "    cmatrix = confusion_matrix(y_test, y_pred)\n",
    "    a = (cmatrix[0,0]+cmatrix[1,1])/cmatrix.sum()\n",
    "    f1s = cmatrix[0][0]/(cmatrix[0][0] + (1/2)*(cmatrix[1][0]+cmatrix[1][1]))\n",
    "    sen = cmatrix[0][0]/(cmatrix[0][1]+cmatrix[0][0])\n",
    "    spe = cmatrix[1][1]/(cmatrix[1][0]+cmatrix[1][1])\n",
    "    print(\"Test size:\", samp[i])\n",
    "    print(cmatrix)\n",
    "    print(\"Accuracy = \", a)\n",
    "    print(\"F1-Score = \", f1s)\n",
    "    print(\"Sensitivity = \", sen) \n",
    "    print(\"Specificity = \", spe)\n",
    "    ac1.append(a)\n",
    "    f11.append(f1s)\n",
    "    sens1.append(sen)\n",
    "    spec1.append(spe)"
   ]
  },
  {
   "cell_type": "code",
   "execution_count": 46,
   "metadata": {},
   "outputs": [
    {
     "data": {
      "text/plain": [
       "Text(0.5, 1.0, 'Evaluation metrics using different undersampling strategy ratios')"
      ]
     },
     "execution_count": 46,
     "metadata": {},
     "output_type": "execute_result"
    },
    {
     "data": {
      "image/png": "[encoded data removed]",
      "text/plain": [
       "<Figure size 576x396 with 1 Axes>"
      ]
     },
     "metadata": {},
     "output_type": "display_data"
    }
   ],
   "source": [
    "plt.plot(samp, ac1, label = \"Accuracy\")\n",
    "plt.plot(samp, f11, label = \"F1-score\")\n",
    "plt.plot(samp, sens1, label = \"Sensitivity\")\n",
    "plt.plot(samp, spec1, label = \"Specificity\")\n",
    "plt.legend()\n",
    "plt.title(\"Evaluation metrics using different sampling strategies\")"
   ]
  },
  {
   "cell_type": "code",
   "execution_count": null,
   "metadata": {},
   "outputs": [],
   "source": [
    "#Similar results as MLP, so sampling strategy updated to be 0.99"
   ]
  },
  {
   "cell_type": "markdown",
   "metadata": {},
   "source": [
    "### Testing without SMOTE"
   ]
  },
  {
   "cell_type": "code",
   "execution_count": 61,
   "metadata": {},
   "outputs": [],
   "source": [
    "# Reimplementing train test split but without using SMOTE\n",
    "\n",
    "from sklearn.model_selection import train_test_split\n",
    "\n",
    "X_train, X_test, y_train, y_test = train_test_split(X_df, y, test_size=0.25, random_state = 1)"
   ]
  },
  {
   "cell_type": "code",
   "execution_count": 62,
   "metadata": {},
   "outputs": [],
   "source": [
    "SVM_no_smote = SVC(C=100, gamma = 1, kernel = 'rbf')"
   ]
  },
  {
   "cell_type": "code",
   "execution_count": 64,
   "metadata": {},
   "outputs": [
    {
     "data": {
      "text/plain": [
       "SVC(C=100, gamma=1)"
      ]
     },
     "execution_count": 64,
     "metadata": {},
     "output_type": "execute_result"
    }
   ],
   "source": [
    "SVM_no_smote.fit(X_train, y_train.values.ravel())"
   ]
  },
  {
   "cell_type": "code",
   "execution_count": 65,
   "metadata": {},
   "outputs": [
    {
     "name": "stdout",
     "output_type": "stream",
     "text": [
      "[[6549  659]\n",
      " [ 934 1171]]\n",
      "Accuracy =  0.8289487812734887\n"
     ]
    }
   ],
   "source": [
    "# evaluation metrics for svm wihout smote\n",
    "\n",
    "from sklearn.metrics import confusion_matrix\n",
    "y_pred = SVM_no_smote.predict(X_test)\n",
    "cmatrix = confusion_matrix(y_test, y_pred)\n",
    "print(cmatrix)\n",
    "print(\"Accuracy = \", (cmatrix[0,0]+cmatrix[1,1])/cmatrix.sum())"
   ]
  },
  {
   "cell_type": "code",
   "execution_count": 66,
   "metadata": {},
   "outputs": [
    {
     "name": "stdout",
     "output_type": "stream",
     "text": [
      "F1-Score =  0.8615404854305071\n",
      "Sensitivity =  0.9085738068812431\n",
      "Specificity =  0.5562945368171022\n"
     ]
    }
   ],
   "source": [
    "print(\"F1-Score = \", cmatrix[0][0]/(cmatrix[0][0] + (1/2)*(cmatrix[1][0]+cmatrix[1][1])))\n",
    "print(\"Sensitivity = \", cmatrix[0][0]/(cmatrix[0][1]+cmatrix[0][0])) \n",
    "print(\"Specificity = \", cmatrix[1][1]/(cmatrix[1][0]+cmatrix[1][1]))"
   ]
  },
  {
   "cell_type": "code",
   "execution_count": null,
   "metadata": {},
   "outputs": [],
   "source": [
    "# although there is increase in accuracy, the specificity is as good as a random guess\n",
    "# accuracy would be much lower if test data is balanced"
   ]
  },
  {
   "cell_type": "markdown",
   "metadata": {},
   "source": [
    "### Final model evaluation"
   ]
  },
  {
   "cell_type": "code",
   "execution_count": 87,
   "metadata": {},
   "outputs": [
    {
     "name": "stdout",
     "output_type": "stream",
     "text": [
      "[[5632 1576]\n",
      " [ 544 1561]]\n",
      "Accuracy =  0.7723612155052078\n"
     ]
    }
   ],
   "source": [
    "# evaluation metrics\n",
    "\n",
    "from sklearn.metrics import confusion_matrix\n",
    "y_pred = SVM.predict(X_test)\n",
    "cmatrix = confusion_matrix(y_test, y_pred)\n",
    "print(cmatrix)\n",
    "print(\"Accuracy = \", (cmatrix[0,0]+cmatrix[1,1])/cmatrix.sum())"
   ]
  },
  {
   "cell_type": "code",
   "execution_count": 88,
   "metadata": {},
   "outputs": [
    {
     "name": "stdout",
     "output_type": "stream",
     "text": [
      "F1-Score =  0.8425461889445732\n",
      "Sensitivity =  0.781354051054384\n",
      "Specificity =  0.7415676959619952\n"
     ]
    }
   ],
   "source": [
    "print(\"F1-Score = \", cmatrix[0][0]/(cmatrix[0][0] + (1/2)*(cmatrix[1][0]+cmatrix[1][1])))\n",
    "print(\"Sensitivity = \", cmatrix[0][0]/(cmatrix[0][1]+cmatrix[0][0])) \n",
    "print(\"Specificity = \", cmatrix[1][1]/(cmatrix[1][0]+cmatrix[1][1]))"
   ]
  },
  {
   "cell_type": "code",
   "execution_count": 89,
   "metadata": {},
   "outputs": [],
   "source": [
    "from sklearn.metrics import roc_curve\n",
    "from sklearn.metrics import roc_auc_score\n",
    "auc = roc_auc_score(y_test, y_pred) # AUC calculation"
   ]
  },
  {
   "cell_type": "code",
   "execution_count": 90,
   "metadata": {},
   "outputs": [],
   "source": [
    "# finding class probabilities\n",
    "\n",
    "y_pred_prob = SVM.predict_proba(X_test)[:,1] #Class probabilities"
   ]
  },
  {
   "cell_type": "code",
   "execution_count": 91,
   "metadata": {},
   "outputs": [],
   "source": [
    "fpr, tpr, _ = roc_curve(y_test, y_pred_prob) # ROC calculation"
   ]
  },
  {
   "cell_type": "code",
   "execution_count": 96,
   "metadata": {},
   "outputs": [],
   "source": [
    "%store -r fpr_mlp \n",
    "%store -r tpr_mlp\n",
    "%store -r auc_mlp"
   ]
  },
  {
   "cell_type": "code",
   "execution_count": 135,
   "metadata": {},
   "outputs": [
    {
     "data": {
      "image/png": "[encoded data removed]",
      "text/plain": [
       "<Figure size 576x396 with 1 Axes>"
      ]
     },
     "metadata": {},
     "output_type": "display_data"
    }
   ],
   "source": [
    "# MLP roc values imported to compare with svm\n",
    "\n",
    "# ROC curve plotted with AUC values\n",
    "\n",
    "plt.plot(fpr_mlp, tpr_mlp, color='black', label='MLP, AUC = {}'.format(round(auc_mlp,4)))\n",
    "plt.plot(fpr, tpr, color='green', label='SVM, AUC = {}'.format(round(auc,4)))\n",
    "plt.plot([0,1],[0,1], linestyle='dashed')\n",
    "plt.xlabel(\"False-positive rate\")\n",
    "plt.ylabel(\"True-positive rate\")\n",
    "\n",
    "plt.legend()\n",
    "plt.title(\"ROC curve\")\n",
    "plt.savefig(\"roc.png\")"
   ]
  },
  {
   "cell_type": "code",
   "execution_count": 134,
   "metadata": {},
   "outputs": [
    {
     "data": {
      "image/png": "[encoded data removed]",
      "text/plain": [
       "<Figure size 576x396 with 2 Axes>"
      ]
     },
     "metadata": {},
     "output_type": "display_data"
    }
   ],
   "source": [
    "# confusion matrix heat map\n",
    "\n",
    "import seaborn as sns\n",
    "sns.heatmap(cmatrix, annot=True, cmap='Blues', fmt='g')\n",
    "plt.title(\"SVM\")\n",
    "plt.savefig(\"svm_cm.png\")"
   ]
  },
  {
   "cell_type": "code",
   "execution_count": 114,
   "metadata": {},
   "outputs": [],
   "source": [
    "# Values logged for SVM and MLP with and without smote so that grouped bar chart can be plotted\n",
    "\n",
    "\n",
    "svm_ns = [0.8289487812734887, 0.8615404854305071, 0.9085738068812431, 0.5562945368171022]\n",
    "svm_s = [0.7723612155052078, 0.8425461889445732, 0.781354051054384, 0.7415676959619952]\n",
    "mlp_ns = [0.851927413293246, 0.8646215190687504, 0.9325749167591565, 0.5757719714964371]\n",
    "mlp_s = [0.7766562869107699, 0.8368090549655012, 0.7487513873473918, 0.872209026128266]\n",
    "metrics = [\"Accuracy\", \"F1-Score\", \"Sensitivity\", \"Specificity\"]"
   ]
  },
  {
   "cell_type": "code",
   "execution_count": 143,
   "metadata": {},
   "outputs": [
    {
     "data": {
      "image/png": "[encoded data removed]",
      "text/plain": [
       "<Figure size 576x396 with 1 Axes>"
      ]
     },
     "metadata": {},
     "output_type": "display_data"
    }
   ],
   "source": [
    "# plotting grouped bar chart to compare scores of SVM and MLP \n",
    "\n",
    "x = np.arange(len(metrics))  # the label locations\n",
    "width = 0.35  # the width of the bars\n",
    "fig, ax = plt.subplots()\n",
    "rects1 = ax.bar(x - width/2, svm_s, width, label='SVM',edgecolor = 'black', color = '#D7D6D6')\n",
    "rects2 = ax.bar(x + width/2, mlp_s, width, label='MLP', color='#5D5E60', edgecolor = 'black')\n",
    "plt.legend()\n",
    "plt.title(\"Scores comparison\")\n",
    "ax.set_xticks(x)\n",
    "ax.set_xticklabels(metrics)\n",
    "plt.savefig(\"comparison.png\")"
   ]
  },
  {
   "cell_type": "code",
   "execution_count": 146,
   "metadata": {},
   "outputs": [
    {
     "data": {
      "image/png": "[encoded data removed]",
      "text/plain": [
       "<Figure size 576x396 with 1 Axes>"
      ]
     },
     "metadata": {},
     "output_type": "display_data"
    }
   ],
   "source": [
    "# plotting grouped bar chart to compare scores of SVM with and without SMOTE\n",
    "\n",
    "\n",
    "x = np.arange(len(metrics))  # the label locations\n",
    "width = 0.35  # the width of the bars\n",
    "fig, ax = plt.subplots()\n",
    "rects1 = ax.bar(x - width/2, svm_s, width, label='SMOTE',edgecolor = 'black', color =  '#56F5C1')\n",
    "rects2 = ax.bar(x + width/2, svm_ns, width, label='No SMOTE', color='#5D5E60', edgecolor = 'black')\n",
    "plt.legend()\n",
    "plt.title(\"SVM metric scores with and without SMOTE\")\n",
    "ax.set_xticks(x)\n",
    "ax.set_xticklabels(metrics)\n",
    "plt.savefig(\"svm_smote.png\")"
   ]
  }
 ],
 "metadata": {
  "kernelspec": {
   "display_name": "Python 3",
   "language": "python",
   "name": "python3"
  },
  "language_info": {
   "codemirror_mode": {
    "name": "ipython",
    "version": 3
   },
   "file_extension": ".py",
   "mimetype": "text/x-python",
   "name": "python",
   "nbconvert_exporter": "python",
   "pygments_lexer": "ipython3",
   "version": "3.7.1"
  }
 },
 "nbformat": 4,
 "nbformat_minor": 4
}
